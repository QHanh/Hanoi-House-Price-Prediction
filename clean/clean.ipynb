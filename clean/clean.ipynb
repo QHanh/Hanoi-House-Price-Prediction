{
 "cells": [
  {
   "cell_type": "code",
   "execution_count": 310,
   "metadata": {},
   "outputs": [],
   "source": [
    "import pandas as pd"
   ]
  },
  {
   "cell_type": "code",
   "execution_count": 311,
   "metadata": {},
   "outputs": [
    {
     "data": {
      "text/plain": [
       "2000"
      ]
     },
     "execution_count": 311,
     "metadata": {},
     "output_type": "execute_result"
    }
   ],
   "source": [
    "df = pd.read_csv(\"../crawler/data/list_house.csv\")\n",
    "len(df)"
   ]
  },
  {
   "cell_type": "code",
   "execution_count": 312,
   "metadata": {},
   "outputs": [
    {
     "data": {
      "text/html": [
       "<div>\n",
       "<style scoped>\n",
       "    .dataframe tbody tr th:only-of-type {\n",
       "        vertical-align: middle;\n",
       "    }\n",
       "\n",
       "    .dataframe tbody tr th {\n",
       "        vertical-align: top;\n",
       "    }\n",
       "\n",
       "    .dataframe thead th {\n",
       "        text-align: right;\n",
       "    }\n",
       "</style>\n",
       "<table border=\"1\" class=\"dataframe\">\n",
       "  <thead>\n",
       "    <tr style=\"text-align: right;\">\n",
       "      <th></th>\n",
       "      <th>Column</th>\n",
       "      <th>Dtypes</th>\n",
       "      <th>Nunique</th>\n",
       "      <th>Sum_null</th>\n",
       "    </tr>\n",
       "  </thead>\n",
       "  <tbody>\n",
       "    <tr>\n",
       "      <th>0</th>\n",
       "      <td>Unnamed: 0</td>\n",
       "      <td>int64</td>\n",
       "      <td>2000</td>\n",
       "      <td>0</td>\n",
       "    </tr>\n",
       "    <tr>\n",
       "      <th>1</th>\n",
       "      <td>Link</td>\n",
       "      <td>object</td>\n",
       "      <td>1999</td>\n",
       "      <td>0</td>\n",
       "    </tr>\n",
       "    <tr>\n",
       "      <th>2</th>\n",
       "      <td>Title</td>\n",
       "      <td>object</td>\n",
       "      <td>1965</td>\n",
       "      <td>23</td>\n",
       "    </tr>\n",
       "    <tr>\n",
       "      <th>3</th>\n",
       "      <td>Estate_type</td>\n",
       "      <td>object</td>\n",
       "      <td>9</td>\n",
       "      <td>423</td>\n",
       "    </tr>\n",
       "    <tr>\n",
       "      <th>4</th>\n",
       "      <td>Province</td>\n",
       "      <td>object</td>\n",
       "      <td>2</td>\n",
       "      <td>423</td>\n",
       "    </tr>\n",
       "    <tr>\n",
       "      <th>5</th>\n",
       "      <td>District</td>\n",
       "      <td>object</td>\n",
       "      <td>24</td>\n",
       "      <td>427</td>\n",
       "    </tr>\n",
       "    <tr>\n",
       "      <th>6</th>\n",
       "      <td>Ward</td>\n",
       "      <td>object</td>\n",
       "      <td>196</td>\n",
       "      <td>427</td>\n",
       "    </tr>\n",
       "    <tr>\n",
       "      <th>7</th>\n",
       "      <td>Price</td>\n",
       "      <td>object</td>\n",
       "      <td>633</td>\n",
       "      <td>32</td>\n",
       "    </tr>\n",
       "    <tr>\n",
       "      <th>8</th>\n",
       "      <td>Square</td>\n",
       "      <td>object</td>\n",
       "      <td>264</td>\n",
       "      <td>49</td>\n",
       "    </tr>\n",
       "    <tr>\n",
       "      <th>9</th>\n",
       "      <td>Post_date</td>\n",
       "      <td>object</td>\n",
       "      <td>28</td>\n",
       "      <td>2</td>\n",
       "    </tr>\n",
       "    <tr>\n",
       "      <th>10</th>\n",
       "      <td>Describe</td>\n",
       "      <td>object</td>\n",
       "      <td>1931</td>\n",
       "      <td>2</td>\n",
       "    </tr>\n",
       "    <tr>\n",
       "      <th>11</th>\n",
       "      <td>Numb_bedroom</td>\n",
       "      <td>float64</td>\n",
       "      <td>36</td>\n",
       "      <td>474</td>\n",
       "    </tr>\n",
       "    <tr>\n",
       "      <th>12</th>\n",
       "      <td>Numb_toilet</td>\n",
       "      <td>float64</td>\n",
       "      <td>37</td>\n",
       "      <td>589</td>\n",
       "    </tr>\n",
       "    <tr>\n",
       "      <th>13</th>\n",
       "      <td>Numb_floor</td>\n",
       "      <td>float64</td>\n",
       "      <td>31</td>\n",
       "      <td>404</td>\n",
       "    </tr>\n",
       "  </tbody>\n",
       "</table>\n",
       "</div>"
      ],
      "text/plain": [
       "          Column   Dtypes  Nunique  Sum_null\n",
       "0     Unnamed: 0    int64     2000         0\n",
       "1           Link   object     1999         0\n",
       "2          Title   object     1965        23\n",
       "3    Estate_type   object        9       423\n",
       "4       Province   object        2       423\n",
       "5       District   object       24       427\n",
       "6           Ward   object      196       427\n",
       "7          Price   object      633        32\n",
       "8         Square   object      264        49\n",
       "9      Post_date   object       28         2\n",
       "10      Describe   object     1931         2\n",
       "11  Numb_bedroom  float64       36       474\n",
       "12   Numb_toilet  float64       37       589\n",
       "13    Numb_floor  float64       31       404"
      ]
     },
     "execution_count": 312,
     "metadata": {},
     "output_type": "execute_result"
    }
   ],
   "source": [
    "def check(df):\n",
    "    l = []\n",
    "    columns = df.columns\n",
    "    for col in columns:\n",
    "        dtypes = df[col].dtypes\n",
    "        nunique = df[col].nunique()\n",
    "        sum_null = df[col].isnull().sum()\n",
    "        l.append([col, dtypes, nunique, sum_null])\n",
    "    df_check = pd.DataFrame(l)\n",
    "    df_check.columns = ['Column','Dtypes','Nunique','Sum_null']\n",
    "    return df_check \n",
    "check(df)"
   ]
  },
  {
   "cell_type": "code",
   "execution_count": 313,
   "metadata": {},
   "outputs": [],
   "source": [
    "df.dropna(subset=[\"Price\", \"Square\"], inplace=True)"
   ]
  },
  {
   "cell_type": "code",
   "execution_count": 314,
   "metadata": {},
   "outputs": [
    {
     "data": {
      "text/plain": [
       "1"
      ]
     },
     "execution_count": 314,
     "metadata": {},
     "output_type": "execute_result"
    }
   ],
   "source": [
    "outliers = df[(df['Numb_bedroom'] > 1000) | (df['Numb_toilet'] > 1000) | (df['Numb_floor'] > 1000)]\n",
    "len(outliers)"
   ]
  },
  {
   "cell_type": "code",
   "execution_count": 315,
   "metadata": {},
   "outputs": [],
   "source": [
    "df = df[(df['Numb_bedroom'] < 100) & (df['Numb_toilet'] < 100) & (df['Numb_floor'] < 100)]"
   ]
  },
  {
   "cell_type": "code",
   "execution_count": 316,
   "metadata": {},
   "outputs": [
    {
     "data": {
      "text/plain": [
       "(1354, 14)"
      ]
     },
     "execution_count": 316,
     "metadata": {},
     "output_type": "execute_result"
    }
   ],
   "source": [
    "df.shape"
   ]
  },
  {
   "cell_type": "code",
   "execution_count": 317,
   "metadata": {},
   "outputs": [],
   "source": [
    "for column in ['Estate_type', 'District', 'Ward']:\n",
    "    df.loc[:, column] = df[column].fillna(\"Unknown\")\n",
    "\n",
    "df.loc[:, 'Province'] = df['Province'].fillna(\"Hà Nội\")\n",
    "\n",
    "for column in ['Numb_bedroom', 'Numb_toilet', 'Numb_floor']:\n",
    "    df.loc[:, column] = df[column].fillna(df[column].mean())"
   ]
  },
  {
   "cell_type": "code",
   "execution_count": 318,
   "metadata": {},
   "outputs": [],
   "source": [
    "df.loc[:, 'Square'] = df['Square'].str.replace(' m2', '', regex=False)"
   ]
  },
  {
   "cell_type": "code",
   "execution_count": 319,
   "metadata": {},
   "outputs": [
    {
     "name": "stdout",
     "output_type": "stream",
     "text": [
      "float64\n"
     ]
    }
   ],
   "source": [
    "df['Square'] = pd.to_numeric(df['Square'], errors='coerce')\n",
    "df = df.dropna(subset=['Square'])\n",
    "print(df['Square'].dtype)"
   ]
  },
  {
   "cell_type": "code",
   "execution_count": 320,
   "metadata": {},
   "outputs": [
    {
     "data": {
      "text/plain": [
       "0    54.0\n",
       "1    33.0\n",
       "3    55.0\n",
       "4    99.0\n",
       "9    41.0\n",
       "Name: Square, dtype: float64"
      ]
     },
     "execution_count": 320,
     "metadata": {},
     "output_type": "execute_result"
    }
   ],
   "source": [
    "df['Square'].head()"
   ]
  },
  {
   "cell_type": "code",
   "execution_count": 321,
   "metadata": {},
   "outputs": [],
   "source": [
    "import numpy as np\n",
    "\n",
    "def convert_price(price_str):\n",
    "    price_str = price_str.replace(',', '').strip()\n",
    "    if 'tỷ' in price_str:\n",
    "        return float(price_str.replace('tỷ', '').strip()) * 1e9\n",
    "    elif 'triệu' in price_str:\n",
    "        return float(price_str.replace('triệu', '').strip()) * 1e6\n",
    "    else:\n",
    "        try:\n",
    "            return float(price_str)\n",
    "        except ValueError:\n",
    "            return np.nan"
   ]
  },
  {
   "cell_type": "code",
   "execution_count": 322,
   "metadata": {},
   "outputs": [
    {
     "name": "stdout",
     "output_type": "stream",
     "text": [
      "0    4.860000e+09\n",
      "1    5.000000e+09\n",
      "3    2.550000e+09\n",
      "4    4.750000e+09\n",
      "9    1.690000e+10\n",
      "Name: Price, dtype: float64\n"
     ]
    }
   ],
   "source": [
    "df['Price'] = df['Price'].apply(convert_price)\n",
    "df = df.dropna(subset=['Price'])\n",
    "print(df['Price'].head())"
   ]
  },
  {
   "cell_type": "code",
   "execution_count": 323,
   "metadata": {},
   "outputs": [
    {
     "data": {
      "text/html": [
       "<div>\n",
       "<style scoped>\n",
       "    .dataframe tbody tr th:only-of-type {\n",
       "        vertical-align: middle;\n",
       "    }\n",
       "\n",
       "    .dataframe tbody tr th {\n",
       "        vertical-align: top;\n",
       "    }\n",
       "\n",
       "    .dataframe thead th {\n",
       "        text-align: right;\n",
       "    }\n",
       "</style>\n",
       "<table border=\"1\" class=\"dataframe\">\n",
       "  <thead>\n",
       "    <tr style=\"text-align: right;\">\n",
       "      <th></th>\n",
       "      <th>Column</th>\n",
       "      <th>Dtypes</th>\n",
       "      <th>Nunique</th>\n",
       "      <th>Sum_null</th>\n",
       "    </tr>\n",
       "  </thead>\n",
       "  <tbody>\n",
       "    <tr>\n",
       "      <th>0</th>\n",
       "      <td>Unnamed: 0</td>\n",
       "      <td>int64</td>\n",
       "      <td>1342</td>\n",
       "      <td>0</td>\n",
       "    </tr>\n",
       "    <tr>\n",
       "      <th>1</th>\n",
       "      <td>Link</td>\n",
       "      <td>object</td>\n",
       "      <td>1342</td>\n",
       "      <td>0</td>\n",
       "    </tr>\n",
       "    <tr>\n",
       "      <th>2</th>\n",
       "      <td>Title</td>\n",
       "      <td>object</td>\n",
       "      <td>1328</td>\n",
       "      <td>8</td>\n",
       "    </tr>\n",
       "    <tr>\n",
       "      <th>3</th>\n",
       "      <td>Estate_type</td>\n",
       "      <td>object</td>\n",
       "      <td>8</td>\n",
       "      <td>0</td>\n",
       "    </tr>\n",
       "    <tr>\n",
       "      <th>4</th>\n",
       "      <td>Province</td>\n",
       "      <td>object</td>\n",
       "      <td>1</td>\n",
       "      <td>0</td>\n",
       "    </tr>\n",
       "    <tr>\n",
       "      <th>5</th>\n",
       "      <td>District</td>\n",
       "      <td>object</td>\n",
       "      <td>18</td>\n",
       "      <td>0</td>\n",
       "    </tr>\n",
       "    <tr>\n",
       "      <th>6</th>\n",
       "      <td>Ward</td>\n",
       "      <td>object</td>\n",
       "      <td>151</td>\n",
       "      <td>0</td>\n",
       "    </tr>\n",
       "    <tr>\n",
       "      <th>7</th>\n",
       "      <td>Price</td>\n",
       "      <td>float64</td>\n",
       "      <td>428</td>\n",
       "      <td>0</td>\n",
       "    </tr>\n",
       "    <tr>\n",
       "      <th>8</th>\n",
       "      <td>Square</td>\n",
       "      <td>float64</td>\n",
       "      <td>181</td>\n",
       "      <td>0</td>\n",
       "    </tr>\n",
       "    <tr>\n",
       "      <th>9</th>\n",
       "      <td>Post_date</td>\n",
       "      <td>object</td>\n",
       "      <td>25</td>\n",
       "      <td>0</td>\n",
       "    </tr>\n",
       "    <tr>\n",
       "      <th>10</th>\n",
       "      <td>Describe</td>\n",
       "      <td>object</td>\n",
       "      <td>1310</td>\n",
       "      <td>0</td>\n",
       "    </tr>\n",
       "    <tr>\n",
       "      <th>11</th>\n",
       "      <td>Numb_bedroom</td>\n",
       "      <td>float64</td>\n",
       "      <td>34</td>\n",
       "      <td>0</td>\n",
       "    </tr>\n",
       "    <tr>\n",
       "      <th>12</th>\n",
       "      <td>Numb_toilet</td>\n",
       "      <td>float64</td>\n",
       "      <td>34</td>\n",
       "      <td>0</td>\n",
       "    </tr>\n",
       "    <tr>\n",
       "      <th>13</th>\n",
       "      <td>Numb_floor</td>\n",
       "      <td>float64</td>\n",
       "      <td>28</td>\n",
       "      <td>0</td>\n",
       "    </tr>\n",
       "  </tbody>\n",
       "</table>\n",
       "</div>"
      ],
      "text/plain": [
       "          Column   Dtypes  Nunique  Sum_null\n",
       "0     Unnamed: 0    int64     1342         0\n",
       "1           Link   object     1342         0\n",
       "2          Title   object     1328         8\n",
       "3    Estate_type   object        8         0\n",
       "4       Province   object        1         0\n",
       "5       District   object       18         0\n",
       "6           Ward   object      151         0\n",
       "7          Price  float64      428         0\n",
       "8         Square  float64      181         0\n",
       "9      Post_date   object       25         0\n",
       "10      Describe   object     1310         0\n",
       "11  Numb_bedroom  float64       34         0\n",
       "12   Numb_toilet  float64       34         0\n",
       "13    Numb_floor  float64       28         0"
      ]
     },
     "execution_count": 323,
     "metadata": {},
     "output_type": "execute_result"
    }
   ],
   "source": [
    "check(df)"
   ]
  },
  {
   "cell_type": "code",
   "execution_count": 324,
   "metadata": {},
   "outputs": [
    {
     "data": {
      "text/plain": [
       "1299"
      ]
     },
     "execution_count": 324,
     "metadata": {},
     "output_type": "execute_result"
    }
   ],
   "source": [
    "df = df[df['Price'] != 0]\n",
    "len(df)"
   ]
  },
  {
   "cell_type": "code",
   "execution_count": 325,
   "metadata": {},
   "outputs": [],
   "source": [
    "df.to_csv(\"data_ETLed.csv\")"
   ]
  }
 ],
 "metadata": {
  "kernelspec": {
   "display_name": "Python 3",
   "language": "python",
   "name": "python3"
  },
  "language_info": {
   "codemirror_mode": {
    "name": "ipython",
    "version": 3
   },
   "file_extension": ".py",
   "mimetype": "text/x-python",
   "name": "python",
   "nbconvert_exporter": "python",
   "pygments_lexer": "ipython3",
   "version": "3.12.4"
  }
 },
 "nbformat": 4,
 "nbformat_minor": 2
}
