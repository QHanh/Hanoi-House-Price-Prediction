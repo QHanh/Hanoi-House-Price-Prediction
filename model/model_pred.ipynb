{
 "cells": [
  {
   "cell_type": "code",
   "execution_count": 80,
   "metadata": {},
   "outputs": [],
   "source": [
    "from sklearn.metrics import mean_squared_error, mean_absolute_error, r2_score\n",
    "from sklearn.linear_model import LinearRegression, Ridge\n",
    "from sklearn.model_selection import train_test_split\n",
    "from sklearn.preprocessing import StandardScaler\n",
    "import pandas as pd\n",
    "import numpy as np"
   ]
  },
  {
   "cell_type": "code",
   "execution_count": 81,
   "metadata": {},
   "outputs": [],
   "source": [
    "df = pd.read_csv(\"../clean/data_ETLed.csv\")"
   ]
  },
  {
   "cell_type": "code",
   "execution_count": 82,
   "metadata": {},
   "outputs": [],
   "source": [
    "Selected_features = ['Estate_type', 'District', 'Ward', 'Square', 'Numb_bedroom', 'Numb_toilet', 'Numb_floor']\n",
    "X = df[Selected_features]\n",
    "y = df['Price']"
   ]
  },
  {
   "cell_type": "code",
   "execution_count": 83,
   "metadata": {},
   "outputs": [],
   "source": [
    "data_dummies = pd.get_dummies(X, drop_first=True)\n",
    "data_dummies = data_dummies.astype(float)\n",
    "cols = data_dummies.columns.values\n",
    "data_preprocessed = data_dummies[cols]"
   ]
  },
  {
   "cell_type": "code",
   "execution_count": 84,
   "metadata": {},
   "outputs": [],
   "source": [
    "X_train, X_test, y_train, y_test = train_test_split(data_preprocessed, y, test_size=0.2, random_state=0)\n",
    "scaler = StandardScaler()\n",
    "X_train = scaler.fit_transform(X_train) \n",
    "X_test = scaler.transform(X_test)"
   ]
  },
  {
   "cell_type": "code",
   "execution_count": 85,
   "metadata": {},
   "outputs": [],
   "source": [
    "model = Ridge()\n",
    "model.fit(X_train, y_train)\n",
    "predictions = model.predict(X_test)"
   ]
  },
  {
   "cell_type": "code",
   "execution_count": 86,
   "metadata": {},
   "outputs": [
    {
     "name": "stdout",
     "output_type": "stream",
     "text": [
      "Mean Squared Error: 6.50066134959502e+23\n",
      "Mean Absolute Error: 213866740100.53262\n",
      "R2 Score: -155.42318402490372\n"
     ]
    }
   ],
   "source": [
    "mse = mean_squared_error(y_test, predictions)\n",
    "mae = mean_absolute_error(y_test, predictions)\n",
    "r2 = r2_score(y_test, predictions)\n",
    "print(f'Mean Squared Error: {mse}')\n",
    "print(f'Mean Absolute Error: {mae}')\n",
    "print(f'R2 Score: {r2}')"
   ]
  },
  {
   "cell_type": "code",
   "execution_count": 87,
   "metadata": {},
   "outputs": [],
   "source": [
    "perc = np.abs((predictions - y_test)/y_test)\n",
    "perc = perc.values*100"
   ]
  },
  {
   "cell_type": "code",
   "execution_count": 88,
   "metadata": {},
   "outputs": [
    {
     "data": {
      "text/html": [
       "<div>\n",
       "<style scoped>\n",
       "    .dataframe tbody tr th:only-of-type {\n",
       "        vertical-align: middle;\n",
       "    }\n",
       "\n",
       "    .dataframe tbody tr th {\n",
       "        vertical-align: top;\n",
       "    }\n",
       "\n",
       "    .dataframe thead th {\n",
       "        text-align: right;\n",
       "    }\n",
       "</style>\n",
       "<table border=\"1\" class=\"dataframe\">\n",
       "  <thead>\n",
       "    <tr style=\"text-align: right;\">\n",
       "      <th></th>\n",
       "      <th>Gia du doan</th>\n",
       "      <th>Gia thuc</th>\n",
       "      <th>% sai lech</th>\n",
       "    </tr>\n",
       "  </thead>\n",
       "  <tbody>\n",
       "    <tr>\n",
       "      <th>610</th>\n",
       "      <td>1.306484e+10</td>\n",
       "      <td>1.200000e+10</td>\n",
       "      <td>8.873637e+00</td>\n",
       "    </tr>\n",
       "    <tr>\n",
       "      <th>381</th>\n",
       "      <td>2.145304e+09</td>\n",
       "      <td>1.750000e+09</td>\n",
       "      <td>2.258878e+01</td>\n",
       "    </tr>\n",
       "    <tr>\n",
       "      <th>1050</th>\n",
       "      <td>1.105997e+10</td>\n",
       "      <td>8.600000e+09</td>\n",
       "      <td>2.860430e+01</td>\n",
       "    </tr>\n",
       "    <tr>\n",
       "      <th>1281</th>\n",
       "      <td>1.090531e+12</td>\n",
       "      <td>8.250000e+11</td>\n",
       "      <td>3.218554e+01</td>\n",
       "    </tr>\n",
       "    <tr>\n",
       "      <th>435</th>\n",
       "      <td>1.096582e+10</td>\n",
       "      <td>7.950000e+09</td>\n",
       "      <td>3.793483e+01</td>\n",
       "    </tr>\n",
       "    <tr>\n",
       "      <th>...</th>\n",
       "      <td>...</td>\n",
       "      <td>...</td>\n",
       "      <td>...</td>\n",
       "    </tr>\n",
       "    <tr>\n",
       "      <th>1290</th>\n",
       "      <td>-7.527092e+11</td>\n",
       "      <td>4.500000e+09</td>\n",
       "      <td>1.682687e+04</td>\n",
       "    </tr>\n",
       "    <tr>\n",
       "      <th>358</th>\n",
       "      <td>-8.870166e+11</td>\n",
       "      <td>4.890000e+09</td>\n",
       "      <td>1.823940e+04</td>\n",
       "    </tr>\n",
       "    <tr>\n",
       "      <th>233</th>\n",
       "      <td>1.208384e+13</td>\n",
       "      <td>3.100000e+10</td>\n",
       "      <td>3.888012e+04</td>\n",
       "    </tr>\n",
       "    <tr>\n",
       "      <th>980</th>\n",
       "      <td>1.068244e+12</td>\n",
       "      <td>1.650000e+09</td>\n",
       "      <td>6.464208e+04</td>\n",
       "    </tr>\n",
       "    <tr>\n",
       "      <th>108</th>\n",
       "      <td>-2.249479e+11</td>\n",
       "      <td>1.000000e+06</td>\n",
       "      <td>2.249489e+07</td>\n",
       "    </tr>\n",
       "  </tbody>\n",
       "</table>\n",
       "<p>260 rows × 3 columns</p>\n",
       "</div>"
      ],
      "text/plain": [
       "       Gia du doan      Gia thuc    % sai lech\n",
       "610   1.306484e+10  1.200000e+10  8.873637e+00\n",
       "381   2.145304e+09  1.750000e+09  2.258878e+01\n",
       "1050  1.105997e+10  8.600000e+09  2.860430e+01\n",
       "1281  1.090531e+12  8.250000e+11  3.218554e+01\n",
       "435   1.096582e+10  7.950000e+09  3.793483e+01\n",
       "...            ...           ...           ...\n",
       "1290 -7.527092e+11  4.500000e+09  1.682687e+04\n",
       "358  -8.870166e+11  4.890000e+09  1.823940e+04\n",
       "233   1.208384e+13  3.100000e+10  3.888012e+04\n",
       "980   1.068244e+12  1.650000e+09  6.464208e+04\n",
       "108  -2.249479e+11  1.000000e+06  2.249489e+07\n",
       "\n",
       "[260 rows x 3 columns]"
      ]
     },
     "execution_count": 88,
     "metadata": {},
     "output_type": "execute_result"
    }
   ],
   "source": [
    "data = {'Gia du doan': predictions,\n",
    "        'Gia thuc': y_test,\n",
    "       '% sai lech': perc}\n",
    "A = pd.DataFrame(data)\n",
    "A.sort_values(by=['% sai lech'])"
   ]
  }
 ],
 "metadata": {
  "kernelspec": {
   "display_name": "Python 3",
   "language": "python",
   "name": "python3"
  },
  "language_info": {
   "codemirror_mode": {
    "name": "ipython",
    "version": 3
   },
   "file_extension": ".py",
   "mimetype": "text/x-python",
   "name": "python",
   "nbconvert_exporter": "python",
   "pygments_lexer": "ipython3",
   "version": "3.12.4"
  }
 },
 "nbformat": 4,
 "nbformat_minor": 2
}
