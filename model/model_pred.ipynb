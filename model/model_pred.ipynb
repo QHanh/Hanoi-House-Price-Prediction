{
 "cells": [
  {
   "cell_type": "code",
   "execution_count": 826,
   "metadata": {},
   "outputs": [],
   "source": [
    "from sklearn.metrics import mean_squared_error, mean_absolute_error, r2_score\n",
    "from sklearn.linear_model import LinearRegression, Ridge\n",
    "from sklearn.model_selection import train_test_split\n",
    "from sklearn.preprocessing import StandardScaler\n",
    "from sklearn.preprocessing import LabelEncoder\n",
    "import pandas as pd\n",
    "import numpy as np\n",
    "import pickle"
   ]
  },
  {
   "cell_type": "code",
   "execution_count": 827,
   "metadata": {},
   "outputs": [],
   "source": [
    "df = pd.read_csv(\"../clean/data_ETLed.csv\")"
   ]
  },
  {
   "cell_type": "code",
   "execution_count": 828,
   "metadata": {},
   "outputs": [],
   "source": [
    "Selected_features = ['Estate_type', 'District', 'Ward', 'Square', 'Numb_bedroom', 'Numb_toilet', 'Numb_floor']\n",
    "X = df[Selected_features]\n",
    "y = df['Price']"
   ]
  },
  {
   "cell_type": "code",
   "execution_count": 829,
   "metadata": {},
   "outputs": [],
   "source": [
    "categorical_features = ['Estate_type', 'District', 'Ward']\n",
    "X_categorical = pd.get_dummies(X[categorical_features], drop_first=True)\n",
    "X_numeric = X[['Square', 'Numb_bedroom', 'Numb_toilet', 'Numb_floor']]\n",
    "X_preprocessed = pd.concat([X_numeric, X_categorical], axis=1)"
   ]
  },
  {
   "cell_type": "code",
   "execution_count": 830,
   "metadata": {},
   "outputs": [],
   "source": [
    "X_train, X_test, y_train, y_test = train_test_split(X_preprocessed, y, test_size=0.2, random_state=100)"
   ]
  },
  {
   "cell_type": "code",
   "execution_count": 831,
   "metadata": {},
   "outputs": [],
   "source": [
    "model = Ridge()\n",
    "model.fit(X_train, y_train)\n",
    "predictions = model.predict(X_test)"
   ]
  },
  {
   "cell_type": "code",
   "execution_count": 832,
   "metadata": {},
   "outputs": [
    {
     "name": "stdout",
     "output_type": "stream",
     "text": [
      "Mean Squared Error: 4.562563589455003e+20\n",
      "Mean Absolute Error: 8419418387.413582\n",
      "R2 Score: 0.3713655989838668\n"
     ]
    }
   ],
   "source": [
    "mse = mean_squared_error(y_test, predictions)\n",
    "mae = mean_absolute_error(y_test, predictions)\n",
    "r2 = r2_score(y_test, predictions)\n",
    "print(f'Mean Squared Error: {mse}')\n",
    "print(f'Mean Absolute Error: {mae}')\n",
    "print(f'R2 Score: {r2}')"
   ]
  },
  {
   "cell_type": "code",
   "execution_count": 833,
   "metadata": {},
   "outputs": [],
   "source": [
    "perc = np.abs((predictions - y_test)/y_test)\n",
    "perc = perc.values * 100"
   ]
  },
  {
   "cell_type": "code",
   "execution_count": 834,
   "metadata": {},
   "outputs": [
    {
     "data": {
      "text/html": [
       "<div>\n",
       "<style scoped>\n",
       "    .dataframe tbody tr th:only-of-type {\n",
       "        vertical-align: middle;\n",
       "    }\n",
       "\n",
       "    .dataframe tbody tr th {\n",
       "        vertical-align: top;\n",
       "    }\n",
       "\n",
       "    .dataframe thead th {\n",
       "        text-align: right;\n",
       "    }\n",
       "</style>\n",
       "<table border=\"1\" class=\"dataframe\">\n",
       "  <thead>\n",
       "    <tr style=\"text-align: right;\">\n",
       "      <th></th>\n",
       "      <th>Gia du doan</th>\n",
       "      <th>Gia thuc</th>\n",
       "      <th>% sai lech</th>\n",
       "    </tr>\n",
       "  </thead>\n",
       "  <tbody>\n",
       "    <tr>\n",
       "      <th>18574</th>\n",
       "      <td>3.350071e+09</td>\n",
       "      <td>3.350000e+09</td>\n",
       "      <td>0.002106</td>\n",
       "    </tr>\n",
       "    <tr>\n",
       "      <th>5528</th>\n",
       "      <td>4.370921e+09</td>\n",
       "      <td>4.370000e+09</td>\n",
       "      <td>0.021066</td>\n",
       "    </tr>\n",
       "    <tr>\n",
       "      <th>2988</th>\n",
       "      <td>4.998478e+09</td>\n",
       "      <td>5.000000e+09</td>\n",
       "      <td>0.030436</td>\n",
       "    </tr>\n",
       "    <tr>\n",
       "      <th>7918</th>\n",
       "      <td>8.004751e+09</td>\n",
       "      <td>8.000000e+09</td>\n",
       "      <td>0.059384</td>\n",
       "    </tr>\n",
       "    <tr>\n",
       "      <th>9036</th>\n",
       "      <td>1.350814e+10</td>\n",
       "      <td>1.350000e+10</td>\n",
       "      <td>0.060331</td>\n",
       "    </tr>\n",
       "    <tr>\n",
       "      <th>...</th>\n",
       "      <td>...</td>\n",
       "      <td>...</td>\n",
       "      <td>...</td>\n",
       "    </tr>\n",
       "    <tr>\n",
       "      <th>15027</th>\n",
       "      <td>2.580303e+10</td>\n",
       "      <td>4.500000e+07</td>\n",
       "      <td>57240.075913</td>\n",
       "    </tr>\n",
       "    <tr>\n",
       "      <th>9017</th>\n",
       "      <td>2.293931e+10</td>\n",
       "      <td>3.600000e+07</td>\n",
       "      <td>63620.298876</td>\n",
       "    </tr>\n",
       "    <tr>\n",
       "      <th>4906</th>\n",
       "      <td>3.609753e+09</td>\n",
       "      <td>5.000000e+06</td>\n",
       "      <td>72095.069710</td>\n",
       "    </tr>\n",
       "    <tr>\n",
       "      <th>12805</th>\n",
       "      <td>2.600742e+10</td>\n",
       "      <td>3.000000e+07</td>\n",
       "      <td>86591.406532</td>\n",
       "    </tr>\n",
       "    <tr>\n",
       "      <th>662</th>\n",
       "      <td>6.232220e+09</td>\n",
       "      <td>4.500000e+06</td>\n",
       "      <td>138393.782048</td>\n",
       "    </tr>\n",
       "  </tbody>\n",
       "</table>\n",
       "<p>3982 rows × 3 columns</p>\n",
       "</div>"
      ],
      "text/plain": [
       "        Gia du doan      Gia thuc     % sai lech\n",
       "18574  3.350071e+09  3.350000e+09       0.002106\n",
       "5528   4.370921e+09  4.370000e+09       0.021066\n",
       "2988   4.998478e+09  5.000000e+09       0.030436\n",
       "7918   8.004751e+09  8.000000e+09       0.059384\n",
       "9036   1.350814e+10  1.350000e+10       0.060331\n",
       "...             ...           ...            ...\n",
       "15027  2.580303e+10  4.500000e+07   57240.075913\n",
       "9017   2.293931e+10  3.600000e+07   63620.298876\n",
       "4906   3.609753e+09  5.000000e+06   72095.069710\n",
       "12805  2.600742e+10  3.000000e+07   86591.406532\n",
       "662    6.232220e+09  4.500000e+06  138393.782048\n",
       "\n",
       "[3982 rows x 3 columns]"
      ]
     },
     "execution_count": 834,
     "metadata": {},
     "output_type": "execute_result"
    }
   ],
   "source": [
    "data = {'Gia du doan': predictions, 'Gia thuc': y_test, '% sai lech': perc}\n",
    "result = pd.DataFrame(data)\n",
    "result.sort_values(by=['% sai lech'])"
   ]
  },
  {
   "cell_type": "code",
   "execution_count": 835,
   "metadata": {},
   "outputs": [],
   "source": [
    "model_filename = 'model.pkl'\n",
    "pickle.dump(model, open(model_filename, 'wb'))\n",
    "loaded_model = pickle.load(open(model_filename, 'rb'))"
   ]
  },
  {
   "cell_type": "code",
   "execution_count": 836,
   "metadata": {},
   "outputs": [],
   "source": [
    "def prepare_input_data(df, categorical_features, all_columns):\n",
    "    df_encoded = pd.get_dummies(df, columns=categorical_features)\n",
    "    df_encoded = df_encoded.reindex(columns=all_columns, fill_value=False)\n",
    "    return df_encoded"
   ]
  },
  {
   "cell_type": "code",
   "execution_count": 837,
   "metadata": {},
   "outputs": [],
   "source": [
    "all_columns = X_preprocessed.columns"
   ]
  },
  {
   "cell_type": "code",
   "execution_count": 838,
   "metadata": {},
   "outputs": [],
   "source": [
    "input_data = pd.DataFrame({\n",
    "    'Estate_type': ['kho nhà xưởng'],  # Giá trị cập nhật\n",
    "    'District': ['Huyện Gia Lâm'],\n",
    "    'Ward': ['Xã Đa Tốn'],\n",
    "    'Square': [500],\n",
    "    'Numb_bedroom': [3],\n",
    "    'Numb_toilet': [2],\n",
    "    'Numb_floor': [5]\n",
    "})"
   ]
  },
  {
   "cell_type": "code",
   "execution_count": 839,
   "metadata": {},
   "outputs": [
    {
     "data": {
      "text/html": [
       "<div>\n",
       "<style scoped>\n",
       "    .dataframe tbody tr th:only-of-type {\n",
       "        vertical-align: middle;\n",
       "    }\n",
       "\n",
       "    .dataframe tbody tr th {\n",
       "        vertical-align: top;\n",
       "    }\n",
       "\n",
       "    .dataframe thead th {\n",
       "        text-align: right;\n",
       "    }\n",
       "</style>\n",
       "<table border=\"1\" class=\"dataframe\">\n",
       "  <thead>\n",
       "    <tr style=\"text-align: right;\">\n",
       "      <th></th>\n",
       "      <th>Square</th>\n",
       "      <th>Numb_bedroom</th>\n",
       "      <th>Numb_toilet</th>\n",
       "      <th>Numb_floor</th>\n",
       "      <th>Estate_type_kho nhà xưởng</th>\n",
       "      <th>Estate_type_nhà biệt thự liền kề</th>\n",
       "      <th>Estate_type_nhà mặt phố</th>\n",
       "      <th>Estate_type_nhà riêng</th>\n",
       "      <th>Estate_type_nhà đất</th>\n",
       "      <th>Estate_type_trang trại khu nghỉ dưỡng</th>\n",
       "      <th>...</th>\n",
       "      <th>Ward_Xã Đa Tốn</th>\n",
       "      <th>Ward_Xã Đông Dư</th>\n",
       "      <th>Ward_Xã Đông Hội</th>\n",
       "      <th>Ward_Xã Đông La</th>\n",
       "      <th>Ward_Xã Đông Mỹ</th>\n",
       "      <th>Ward_Xã Đại Mạch</th>\n",
       "      <th>Ward_Xã Đại Thành</th>\n",
       "      <th>Ward_Xã Đại Thịnh</th>\n",
       "      <th>Ward_Xã Đặng Xá</th>\n",
       "      <th>Ward_Xã Đức Giang</th>\n",
       "    </tr>\n",
       "  </thead>\n",
       "  <tbody>\n",
       "    <tr>\n",
       "      <th>0</th>\n",
       "      <td>500</td>\n",
       "      <td>3</td>\n",
       "      <td>2</td>\n",
       "      <td>5</td>\n",
       "      <td>True</td>\n",
       "      <td>False</td>\n",
       "      <td>False</td>\n",
       "      <td>False</td>\n",
       "      <td>False</td>\n",
       "      <td>False</td>\n",
       "      <td>...</td>\n",
       "      <td>True</td>\n",
       "      <td>False</td>\n",
       "      <td>False</td>\n",
       "      <td>False</td>\n",
       "      <td>False</td>\n",
       "      <td>False</td>\n",
       "      <td>False</td>\n",
       "      <td>False</td>\n",
       "      <td>False</td>\n",
       "      <td>False</td>\n",
       "    </tr>\n",
       "  </tbody>\n",
       "</table>\n",
       "<p>1 rows × 271 columns</p>\n",
       "</div>"
      ],
      "text/plain": [
       "   Square  Numb_bedroom  Numb_toilet  Numb_floor  Estate_type_kho nhà xưởng  \\\n",
       "0     500             3            2           5                       True   \n",
       "\n",
       "   Estate_type_nhà biệt thự liền kề  Estate_type_nhà mặt phố  \\\n",
       "0                             False                    False   \n",
       "\n",
       "   Estate_type_nhà riêng  Estate_type_nhà đất  \\\n",
       "0                  False                False   \n",
       "\n",
       "   Estate_type_trang trại khu nghỉ dưỡng  ...  Ward_Xã Đa Tốn  \\\n",
       "0                                  False  ...            True   \n",
       "\n",
       "   Ward_Xã Đông Dư  Ward_Xã Đông Hội  Ward_Xã Đông La  Ward_Xã Đông Mỹ  \\\n",
       "0            False             False            False            False   \n",
       "\n",
       "   Ward_Xã Đại Mạch  Ward_Xã Đại Thành  Ward_Xã Đại Thịnh  Ward_Xã Đặng Xá  \\\n",
       "0             False              False              False            False   \n",
       "\n",
       "   Ward_Xã Đức Giang  \n",
       "0              False  \n",
       "\n",
       "[1 rows x 271 columns]"
      ]
     },
     "execution_count": 839,
     "metadata": {},
     "output_type": "execute_result"
    }
   ],
   "source": [
    "input_preprocessed = prepare_input_data(input_data, ['Estate_type', 'District', 'Ward'], all_columns)\n",
    "input_preprocessed"
   ]
  },
  {
   "cell_type": "code",
   "execution_count": 840,
   "metadata": {},
   "outputs": [
    {
     "name": "stdout",
     "output_type": "stream",
     "text": [
      "[3.32285731e+10]\n"
     ]
    }
   ],
   "source": [
    "test = loaded_model.predict(input_preprocessed)\n",
    "print(test)"
   ]
  },
  {
   "cell_type": "code",
   "execution_count": 842,
   "metadata": {},
   "outputs": [
    {
     "data": {
      "text/plain": [
       "array(['nhà riêng', 'nhà mặt phố', 'nhà biệt thự liền kề',\n",
       "       'căn hộ chung cư', 'nhà đất', 'trang trại khu nghỉ dưỡng', 'đất',\n",
       "       'đất nền dự án', 'kho nhà xưởng'], dtype=object)"
      ]
     },
     "execution_count": 842,
     "metadata": {},
     "output_type": "execute_result"
    }
   ],
   "source": [
    "df[\"Estate_type\"].unique()"
   ]
  }
 ],
 "metadata": {
  "kernelspec": {
   "display_name": "Python 3",
   "language": "python",
   "name": "python3"
  },
  "language_info": {
   "codemirror_mode": {
    "name": "ipython",
    "version": 3
   },
   "file_extension": ".py",
   "mimetype": "text/x-python",
   "name": "python",
   "nbconvert_exporter": "python",
   "pygments_lexer": "ipython3",
   "version": "3.12.4"
  }
 },
 "nbformat": 4,
 "nbformat_minor": 2
}
